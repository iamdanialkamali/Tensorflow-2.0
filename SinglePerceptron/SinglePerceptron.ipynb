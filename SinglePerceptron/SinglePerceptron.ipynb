{
  "nbformat": 4,
  "nbformat_minor": 0,
  "metadata": {
    "colab": {
      "name": "SinglePerceptron.ipynb",
      "provenance": [],
      "collapsed_sections": []
    },
    "kernelspec": {
      "name": "python3",
      "display_name": "Python 3"
    }
  },
  "cells": [
    {
      "cell_type": "markdown",
      "metadata": {
        "id": "2J-vqcUkt2Wt",
        "colab_type": "text"
      },
      "source": [
        "# Single Perceptron"
      ]
    },
    {
      "cell_type": "markdown",
      "metadata": {
        "id": "wNUxMyJJqgeL",
        "colab_type": "text"
      },
      "source": [
        "## import libraries"
      ]
    },
    {
      "cell_type": "code",
      "metadata": {
        "id": "eXYsPBNZnEqk",
        "colab_type": "code",
        "colab": {
          "base_uri": "https://localhost:8080/",
          "height": 34
        },
        "outputId": "ca738a48-503c-4f54-feec-3c6a95d3bbd0"
      },
      "source": [
        "from __future__ import absolute_import, division, print_function, unicode_literals\n",
        "\n",
        "# Install TensorFlow\n",
        "try:\n",
        "  # %tensorflow_version only exists in Colab.\n",
        "  %tensorflow_version 2.x\n",
        "except Exception:\n",
        "  pass\n",
        "\n",
        "import tensorflow as tf\n",
        "from pprint import pprint\n",
        "\n",
        "import numpy as np\n",
        "import seaborn as sns\n",
        "import pandas as pd\n",
        "import matplotlib.pyplot as plt"
      ],
      "execution_count": 2,
      "outputs": [
        {
          "output_type": "stream",
          "text": [
            "TensorFlow 2.x selected.\n"
          ],
          "name": "stdout"
        }
      ]
    },
    {
      "cell_type": "markdown",
      "metadata": {
        "id": "5nIRDyvYICQT",
        "colab_type": "text"
      },
      "source": [
        "## Defining Layer"
      ]
    },
    {
      "cell_type": "code",
      "metadata": {
        "id": "n6OZ_s4HIBy5",
        "colab_type": "code",
        "colab": {}
      },
      "source": [
        "from tensorflow.keras import layers\n",
        "\n",
        "\n",
        "class Perceptron(layers.Layer):\n",
        "\n",
        "  def perceptron(self,input_data):\n",
        "    res = tf.matmul(input_data, self.weight)\n",
        "    bias_res = tf.add(self.bias,res)\n",
        "    return bias_res\n",
        "\n",
        "  def __init__(self,input_shape=1):\n",
        "    super(Perceptron, self).__init__()\n",
        "    w_init = tf.random_normal_initializer()\n",
        "    self.weight = self.add_weight(shape=(1,input_shape),\n",
        "                             initializer='random_normal',name='weight',\n",
        "                             trainable=True)\n",
        "    self.bias = self.add_weight(shape=(1,input_shape),\n",
        "                             initializer='random_normal',name='bias',\n",
        "                             trainable=True)\n",
        "    \n",
        "  def call(self, inputs):   \n",
        "      return self.perceptron(inputs)\n",
        "  "
      ],
      "execution_count": 0,
      "outputs": []
    },
    {
      "cell_type": "markdown",
      "metadata": {
        "id": "dRvpx1wYHatj",
        "colab_type": "text"
      },
      "source": [
        "## Defining Model"
      ]
    },
    {
      "cell_type": "code",
      "metadata": {
        "id": "_0UN3z_yHaSX",
        "colab_type": "code",
        "colab": {}
      },
      "source": [
        "class SinglPerceptorn(tf.keras.Model):\n",
        "\n",
        "    def __init__(self):\n",
        "        super(SinglPerceptorn, self).__init__()\n",
        "        self.perceptron = Perceptron(1)\n",
        "\n",
        "    def call(self, inputs):\n",
        "        x = self.perceptron(inputs)\n",
        "        return x\n"
      ],
      "execution_count": 0,
      "outputs": []
    },
    {
      "cell_type": "markdown",
      "metadata": {
        "id": "U9N4QW6ZpZ_C",
        "colab_type": "text"
      },
      "source": [
        "## Problem 1\n",
        "converting celcius to farenheit\n",
        "\n",
        "main eqation is **t(f) = t(c) * 9.5 + 32**\n"
      ]
    },
    {
      "cell_type": "markdown",
      "metadata": {
        "id": "zT_8qY0uqkq4",
        "colab_type": "text"
      },
      "source": [
        "### import data"
      ]
    },
    {
      "cell_type": "code",
      "metadata": {
        "id": "E0zbeSRQqkHA",
        "colab_type": "code",
        "colab": {}
      },
      "source": [
        "temp_df = pd.read_csv('/content/011 Celsius-to-Fahrenheit.csv')"
      ],
      "execution_count": 0,
      "outputs": []
    },
    {
      "cell_type": "markdown",
      "metadata": {
        "id": "GSx8_teQA344",
        "colab_type": "text"
      },
      "source": [
        "### visualization"
      ]
    },
    {
      "cell_type": "code",
      "metadata": {
        "id": "Wr_jIp9Hp00c",
        "colab_type": "code",
        "colab": {
          "base_uri": "https://localhost:8080/",
          "height": 204
        },
        "outputId": "b2a4490b-b5dc-44b4-d3e2-a3c48519c936"
      },
      "source": [
        "temp_df.head(5)"
      ],
      "execution_count": 6,
      "outputs": [
        {
          "output_type": "execute_result",
          "data": {
            "text/html": [
              "<div>\n",
              "<style scoped>\n",
              "    .dataframe tbody tr th:only-of-type {\n",
              "        vertical-align: middle;\n",
              "    }\n",
              "\n",
              "    .dataframe tbody tr th {\n",
              "        vertical-align: top;\n",
              "    }\n",
              "\n",
              "    .dataframe thead th {\n",
              "        text-align: right;\n",
              "    }\n",
              "</style>\n",
              "<table border=\"1\" class=\"dataframe\">\n",
              "  <thead>\n",
              "    <tr style=\"text-align: right;\">\n",
              "      <th></th>\n",
              "      <th>Celsius</th>\n",
              "      <th>Fahrenheit</th>\n",
              "    </tr>\n",
              "  </thead>\n",
              "  <tbody>\n",
              "    <tr>\n",
              "      <th>0</th>\n",
              "      <td>-50</td>\n",
              "      <td>-58.0</td>\n",
              "    </tr>\n",
              "    <tr>\n",
              "      <th>1</th>\n",
              "      <td>-40</td>\n",
              "      <td>-40.0</td>\n",
              "    </tr>\n",
              "    <tr>\n",
              "      <th>2</th>\n",
              "      <td>-30</td>\n",
              "      <td>-22.0</td>\n",
              "    </tr>\n",
              "    <tr>\n",
              "      <th>3</th>\n",
              "      <td>-20</td>\n",
              "      <td>-4.0</td>\n",
              "    </tr>\n",
              "    <tr>\n",
              "      <th>4</th>\n",
              "      <td>-10</td>\n",
              "      <td>14.0</td>\n",
              "    </tr>\n",
              "  </tbody>\n",
              "</table>\n",
              "</div>"
            ],
            "text/plain": [
              "   Celsius  Fahrenheit\n",
              "0      -50       -58.0\n",
              "1      -40       -40.0\n",
              "2      -30       -22.0\n",
              "3      -20        -4.0\n",
              "4      -10        14.0"
            ]
          },
          "metadata": {
            "tags": []
          },
          "execution_count": 6
        }
      ]
    },
    {
      "cell_type": "code",
      "metadata": {
        "id": "PW36D6y8rL9G",
        "colab_type": "code",
        "colab": {
          "base_uri": "https://localhost:8080/",
          "height": 297
        },
        "outputId": "979d0c97-b41f-4ada-b4eb-d69f5116a630"
      },
      "source": [
        "temp_df.describe()"
      ],
      "execution_count": 7,
      "outputs": [
        {
          "output_type": "execute_result",
          "data": {
            "text/html": [
              "<div>\n",
              "<style scoped>\n",
              "    .dataframe tbody tr th:only-of-type {\n",
              "        vertical-align: middle;\n",
              "    }\n",
              "\n",
              "    .dataframe tbody tr th {\n",
              "        vertical-align: top;\n",
              "    }\n",
              "\n",
              "    .dataframe thead th {\n",
              "        text-align: right;\n",
              "    }\n",
              "</style>\n",
              "<table border=\"1\" class=\"dataframe\">\n",
              "  <thead>\n",
              "    <tr style=\"text-align: right;\">\n",
              "      <th></th>\n",
              "      <th>Celsius</th>\n",
              "      <th>Fahrenheit</th>\n",
              "    </tr>\n",
              "  </thead>\n",
              "  <tbody>\n",
              "    <tr>\n",
              "      <th>count</th>\n",
              "      <td>30.000000</td>\n",
              "      <td>30.000000</td>\n",
              "    </tr>\n",
              "    <tr>\n",
              "      <th>mean</th>\n",
              "      <td>2.000000</td>\n",
              "      <td>35.600000</td>\n",
              "    </tr>\n",
              "    <tr>\n",
              "      <th>std</th>\n",
              "      <td>22.780815</td>\n",
              "      <td>41.005466</td>\n",
              "    </tr>\n",
              "    <tr>\n",
              "      <th>min</th>\n",
              "      <td>-50.000000</td>\n",
              "      <td>-58.000000</td>\n",
              "    </tr>\n",
              "    <tr>\n",
              "      <th>25%</th>\n",
              "      <td>-6.750000</td>\n",
              "      <td>19.850000</td>\n",
              "    </tr>\n",
              "    <tr>\n",
              "      <th>50%</th>\n",
              "      <td>0.500000</td>\n",
              "      <td>32.900000</td>\n",
              "    </tr>\n",
              "    <tr>\n",
              "      <th>75%</th>\n",
              "      <td>7.750000</td>\n",
              "      <td>45.950000</td>\n",
              "    </tr>\n",
              "    <tr>\n",
              "      <th>max</th>\n",
              "      <td>60.000000</td>\n",
              "      <td>140.000000</td>\n",
              "    </tr>\n",
              "  </tbody>\n",
              "</table>\n",
              "</div>"
            ],
            "text/plain": [
              "         Celsius  Fahrenheit\n",
              "count  30.000000   30.000000\n",
              "mean    2.000000   35.600000\n",
              "std    22.780815   41.005466\n",
              "min   -50.000000  -58.000000\n",
              "25%    -6.750000   19.850000\n",
              "50%     0.500000   32.900000\n",
              "75%     7.750000   45.950000\n",
              "max    60.000000  140.000000"
            ]
          },
          "metadata": {
            "tags": []
          },
          "execution_count": 7
        }
      ]
    },
    {
      "cell_type": "code",
      "metadata": {
        "id": "RDPgmowYBAZk",
        "colab_type": "code",
        "colab": {
          "base_uri": "https://localhost:8080/",
          "height": 296
        },
        "outputId": "1f6a6d65-3e22-4737-ba1a-e3cd60bf94e6"
      },
      "source": [
        "sns.scatterplot(temp_df['Celsius'],temp_df['Fahrenheit'])"
      ],
      "execution_count": 8,
      "outputs": [
        {
          "output_type": "execute_result",
          "data": {
            "text/plain": [
              "<matplotlib.axes._subplots.AxesSubplot at 0x7f43725afcc0>"
            ]
          },
          "metadata": {
            "tags": []
          },
          "execution_count": 8
        },
        {
          "output_type": "display_data",
          "data": {
            "image/png": "[encoded data removed]",
            "text/plain": [
              "<Figure size 432x288 with 1 Axes>"
            ]
          },
          "metadata": {
            "tags": []
          }
        }
      ]
    },
    {
      "cell_type": "code",
      "metadata": {
        "id": "HZ95I3u1C2Ly",
        "colab_type": "code",
        "colab": {
          "base_uri": "https://localhost:8080/",
          "height": 34
        },
        "outputId": "6af93efb-b397-4472-81b7-f49f14ca5ab1"
      },
      "source": [
        "x_train, y_train = np.array(temp_df['Celsius'],dtype=np.float32),np.array(temp_df['Fahrenheit'],dtype=np.float32)\n",
        "x_train = x_train.reshape(-1,1)\n",
        "y_train = y_train.reshape(-1,1)\n",
        "x_train.shape"
      ],
      "execution_count": 9,
      "outputs": [
        {
          "output_type": "execute_result",
          "data": {
            "text/plain": [
              "(30, 1)"
            ]
          },
          "metadata": {
            "tags": []
          },
          "execution_count": 9
        }
      ]
    },
    {
      "cell_type": "markdown",
      "metadata": {
        "id": "g-Z9xmJ1JgRA",
        "colab_type": "text"
      },
      "source": [
        "### Training"
      ]
    },
    {
      "cell_type": "code",
      "metadata": {
        "id": "LTErls0xJf3q",
        "colab_type": "code",
        "colab": {
          "base_uri": "https://localhost:8080/",
          "height": 493
        },
        "outputId": "cbf285cc-2510-4926-cb83-35323876189b"
      },
      "source": [
        "\n",
        "\n",
        "perceptron = SinglPerceptorn()\n",
        "history = []\n",
        "\n",
        "# Instantiate an optimizer.\n",
        "optimizer = tf.keras.optimizers.Adam(learning_rate=1e-2)\n",
        "# Instantiate a loss function.\n",
        "loss_fn = tf.keras.losses.MSE\n",
        "mae =   tf.keras.metrics.MAE\n",
        "\n",
        "# Prepare the training dataset.\n",
        "batch_size = 20\n",
        "seen = True\n",
        "train_dataset = tf.data.Dataset.from_tensor_slices((x_train, y_train))\n",
        "train_dataset = train_dataset.shuffle(buffer_size=100).batch(batch_size)\n",
        "training_mae = 100\n",
        "epoch = 0\n",
        "while training_mae > 0.0001:\n",
        "  epoch += 1\n",
        "  if epoch  % 1000 == 0:\n",
        "    print('Start of epoch %d' % (epoch,))\n",
        "  # Iterate over the batches of the dataset.\n",
        "  for step, (x_batch_train, y_batch_train) in enumerate(train_dataset):\n",
        "    with tf.GradientTape() as tape:\n",
        "      y_pred = perceptron(x_batch_train)\n",
        "      loss_value = loss_fn(y_batch_train, y_pred)\n",
        "      mae_res = mae(y_batch_train, y_pred)\n",
        "\n",
        "    grads = tape.gradient(loss_value, perceptron.trainable_weights)\n",
        "    optimizer.apply_gradients(zip(grads, perceptron.trainable_weights))\n",
        "    training_mse = np.mean(loss_value.numpy())\n",
        "    training_mae = np.mean(mae_res.numpy())\n",
        "    history.append([training_mse,training_mae,perceptron.trainable_weights[0].numpy()[0],perceptron.trainable_weights[1].numpy()[0]])\n",
        "    if epoch  % 1000 == 0:\n",
        "        print('Training MSE (for one batch) at step %s: %s' % (step,training_mse ))\n",
        "        print('Training MAE (for one batch) at step %s: %s' % (step,training_mae ))\n",
        "        print('Seen so far: %s samples' % ((step + 1) *batch_size*epoch))\n"
      ],
      "execution_count": 20,
      "outputs": [
        {
          "output_type": "stream",
          "text": [
            "Start of epoch 1000\n",
            "Training MSE (for one batch) at step 0: 253.39664\n",
            "Training MAE (for one batch) at step 0: 15.857513\n",
            "Seen so far: 20000 samples\n",
            "Training MSE (for one batch) at step 1: 251.28738\n",
            "Training MAE (for one batch) at step 1: 15.784108\n",
            "Seen so far: 40000 samples\n",
            "Start of epoch 2000\n",
            "Training MSE (for one batch) at step 0: 21.686434\n",
            "Training MAE (for one batch) at step 0: 4.6372447\n",
            "Seen so far: 40000 samples\n",
            "Training MSE (for one batch) at step 1: 21.94894\n",
            "Training MAE (for one batch) at step 1: 4.666946\n",
            "Seen so far: 80000 samples\n",
            "Start of epoch 3000\n",
            "Training MSE (for one batch) at step 0: 0.06870252\n",
            "Training MAE (for one batch) at step 0: 0.26114422\n",
            "Seen so far: 60000 samples\n",
            "Training MSE (for one batch) at step 1: 0.0737245\n",
            "Training MAE (for one batch) at step 1: 0.27033862\n",
            "Seen so far: 120000 samples\n",
            "Start of epoch 4000\n",
            "Training MSE (for one batch) at step 0: 2.104539e-08\n",
            "Training MAE (for one batch) at step 0: 0.00014472008\n",
            "Seen so far: 80000 samples\n",
            "Training MSE (for one batch) at step 1: 2.2136737e-08\n",
            "Training MAE (for one batch) at step 1: 0.00014781952\n",
            "Seen so far: 160000 samples\n"
          ],
          "name": "stdout"
        }
      ]
    },
    {
      "cell_type": "markdown",
      "metadata": {
        "id": "A7q4oYCGcY5L",
        "colab_type": "text"
      },
      "source": [
        "### Evaluation"
      ]
    },
    {
      "cell_type": "code",
      "metadata": {
        "id": "-f0JgZDlcYPp",
        "colab_type": "code",
        "colab": {
          "base_uri": "https://localhost:8080/",
          "height": 221
        },
        "outputId": "34275411-fe9f-4288-fd6a-ab876f364039"
      },
      "source": [
        "temps = [0,10,23,43,345,1000]\n",
        "# res = perceptron(tf.reshape(tf.Variable(temps,dtype=tf.int64),(len(temps),1))).numpy()\n",
        "# print(res)\n",
        "for temp in temps:\n",
        "  print(\"real temperature is \",1.8*temp + 32)\n",
        "  print(\"predicted temperature is \",perceptron(tf.reshape(tf.Variable(temp,dtype=tf.float32),(1,1))).numpy()[0][0])"
      ],
      "execution_count": 16,
      "outputs": [
        {
          "output_type": "stream",
          "text": [
            "real temperature is  32.0\n",
            "predicted temperature is  31.999018\n",
            "real temperature is  50.0\n",
            "predicted temperature is  49.999054\n",
            "real temperature is  73.4\n",
            "predicted temperature is  73.3991\n",
            "real temperature is  109.4\n",
            "predicted temperature is  109.39917\n",
            "real temperature is  653.0\n",
            "predicted temperature is  653.0003\n",
            "real temperature is  1832.0\n",
            "predicted temperature is  1832.0027\n"
          ],
          "name": "stdout"
        }
      ]
    },
    {
      "cell_type": "code",
      "metadata": {
        "id": "cTIOpmGrh6F5",
        "colab_type": "code",
        "colab": {}
      },
      "source": [
        "mae_history = []\n",
        "mse_history = []\n",
        "weight_history = []\n",
        "bias_history = []\n",
        "for x in history:\n",
        "  mse_history.append(x[0])\n",
        "  mae_history.append(x[1])\n",
        "  weight_history.append(x[2])\n",
        "  bias_history.append(x[3])"
      ],
      "execution_count": 0,
      "outputs": []
    },
    {
      "cell_type": "markdown",
      "metadata": {
        "id": "vn0HnAstjrCH",
        "colab_type": "text"
      },
      "source": [
        "### plotting progress"
      ]
    },
    {
      "cell_type": "code",
      "metadata": {
        "id": "D9_NhA0gjyNX",
        "colab_type": "code",
        "colab": {
          "base_uri": "https://localhost:8080/",
          "height": 320
        },
        "outputId": "61370ff6-a4e8-47e0-996f-d7cca50321fd"
      },
      "source": [
        "ax1 = plt.subplot(221)\n",
        "ax1.set_title(\"Model MAE Progress\")\n",
        "plt.xlabel(\"Epochs\")\n",
        "plt.ylabel(\"MAE\")\n",
        "ax1.plot(mae_history)\n",
        "ax1.grid=True\n",
        "ax2 =  plt.subplot(222)\n",
        "ax2.set_title(\"Model MAE Progress\")\n",
        "plt.xlabel(\"Epochs\")\n",
        "plt.ylabel(\"MSE\")\n",
        "ax2.plot(mse_history)\n",
        "ax2.grid=True\n",
        "ax3 =  plt.subplot(223)\n",
        "ax3.set_title(\"Model Weight Progress\")\n",
        "plt.xlabel(\"Epochs\")\n",
        "plt.ylabel(\"Weight\")\n",
        "ax3.plot(weight_history)\n",
        "ax3.grid=True\n",
        "ax4 =  plt.subplot(224)\n",
        "ax4.set_title(\"Model Bais Progress\")\n",
        "plt.xlabel(\"Epochs\")\n",
        "plt.ylabel(\"Bias\")\n",
        "ax4.plot(bias_history)\n",
        "ax4.grid=True\n",
        "plt.subplots_adjust(top=1.92, bottom=1.08, left=0.10, right=0.95, hspace=0.85,\n",
        "                    wspace=0.35)\n",
        "plt.show()\n",
        "\n",
        "\n",
        "\n"
      ],
      "execution_count": 23,
      "outputs": [
        {
          "output_type": "display_data",
          "data": {
            "image/png": "[encoded data removed]",
            "text/plain": [
              "<Figure size 432x288 with 4 Axes>"
            ]
          },
          "metadata": {
            "tags": []
          }
        }
      ]
    }
  ]
}